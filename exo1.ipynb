{
 "cells": [
  {
   "cell_type": "code",
   "execution_count": 17,
   "id": "f092b8e4-6cdd-4974-b628-cb359cfaf765",
   "metadata": {},
   "outputs": [],
   "source": [
    "from collections import Counter\n",
    "\n",
    "text = \"La Tunisie est un pays d'Afrique du Nord situé sur la côte méditerranéenne et en bordure du désert du Sahara. Le musée national du Bardo à Tunis, la capitale, expose des pièces archéologiques allant des mosaïques romaines à l'art islamique. Le quartier de la Médina, avec son souk animé, encercle l'imposante mosquée Zitouna. Mosaique. Capitale. Désert bordure bordure\"\n",
    "\n",
    "text_ = text.replace('.','')\n",
    "text_ = text.replace(',','')"
   ]
  },
  {
   "cell_type": "code",
   "execution_count": 18,
   "id": "bc14f61c-652a-4606-8d2c-6bd742101424",
   "metadata": {},
   "outputs": [],
   "source": [
    "text_ = text_.lower()"
   ]
  },
  {
   "cell_type": "code",
   "execution_count": 33,
   "id": "5d5fdaf2-5556-4f12-a739-4ed27ff2ff47",
   "metadata": {},
   "outputs": [],
   "source": [
    "l = text_.split(' ')\n",
    "ll = [e.replace('.','') for e in l]"
   ]
  },
  {
   "cell_type": "code",
   "execution_count": 29,
   "id": "ed74fe6e-80b3-4dc6-b0e5-41e8faab3114",
   "metadata": {},
   "outputs": [
    {
     "data": {
      "text/plain": [
       "Counter({'la': 4,\n",
       "         'du': 4,\n",
       "         'bordure': 3,\n",
       "         'désert': 2,\n",
       "         'le': 2,\n",
       "         'à': 2,\n",
       "         'capitale': 2,\n",
       "         'des': 2,\n",
       "         'tunisie': 1,\n",
       "         'est': 1,\n",
       "         'un': 1,\n",
       "         'pays': 1,\n",
       "         \"d'afrique\": 1,\n",
       "         'nord': 1,\n",
       "         'situé': 1,\n",
       "         'sur': 1,\n",
       "         'côte': 1,\n",
       "         'méditerranéenne': 1,\n",
       "         'et': 1,\n",
       "         'en': 1,\n",
       "         'sahara': 1,\n",
       "         'musée': 1,\n",
       "         'national': 1,\n",
       "         'bardo': 1,\n",
       "         'tunis': 1,\n",
       "         'expose': 1,\n",
       "         'pièces': 1,\n",
       "         'archéologiques': 1,\n",
       "         'allant': 1,\n",
       "         'mosaïques': 1,\n",
       "         'romaines': 1,\n",
       "         \"l'art\": 1,\n",
       "         'islamique': 1,\n",
       "         'quartier': 1,\n",
       "         'de': 1,\n",
       "         'médina': 1,\n",
       "         'avec': 1,\n",
       "         'son': 1,\n",
       "         'souk': 1,\n",
       "         'animé': 1,\n",
       "         'encercle': 1,\n",
       "         \"l'imposante\": 1,\n",
       "         'mosquée': 1,\n",
       "         'zitouna': 1,\n",
       "         'mosaique': 1})"
      ]
     },
     "execution_count": 29,
     "metadata": {},
     "output_type": "execute_result"
    }
   ],
   "source": [
    "Counter(ll)"
   ]
  },
  {
   "cell_type": "code",
   "execution_count": 51,
   "id": "627887f4-8568-4ca4-bf8c-633428677a90",
   "metadata": {},
   "outputs": [],
   "source": [
    "l_ = [e.split(\"'\")[1:] if e.find(\"'\")!= -1 else e for e in ll]"
   ]
  },
  {
   "cell_type": "code",
   "execution_count": 78,
   "id": "c48b0f18-b0e4-4124-b0e2-e14e2ae9811f",
   "metadata": {},
   "outputs": [],
   "source": [
    "finale = [e[0] if isinstance(e,list) else e for e in l_]"
   ]
  },
  {
   "cell_type": "code",
   "execution_count": 80,
   "id": "9393db58-95a6-4de9-a050-271739740bdc",
   "metadata": {},
   "outputs": [
    {
     "data": {
      "text/plain": [
       "Counter({'la': 4,\n",
       "         'du': 4,\n",
       "         'bordure': 3,\n",
       "         'désert': 2,\n",
       "         'le': 2,\n",
       "         'à': 2,\n",
       "         'capitale': 2,\n",
       "         'des': 2,\n",
       "         'tunisie': 1,\n",
       "         'est': 1,\n",
       "         'un': 1,\n",
       "         'pays': 1,\n",
       "         'afrique': 1,\n",
       "         'nord': 1,\n",
       "         'situé': 1,\n",
       "         'sur': 1,\n",
       "         'côte': 1,\n",
       "         'méditerranéenne': 1,\n",
       "         'et': 1,\n",
       "         'en': 1,\n",
       "         'sahara': 1,\n",
       "         'musée': 1,\n",
       "         'national': 1,\n",
       "         'bardo': 1,\n",
       "         'tunis': 1,\n",
       "         'expose': 1,\n",
       "         'pièces': 1,\n",
       "         'archéologiques': 1,\n",
       "         'allant': 1,\n",
       "         'mosaïques': 1,\n",
       "         'romaines': 1,\n",
       "         'art': 1,\n",
       "         'islamique': 1,\n",
       "         'quartier': 1,\n",
       "         'de': 1,\n",
       "         'médina': 1,\n",
       "         'avec': 1,\n",
       "         'son': 1,\n",
       "         'souk': 1,\n",
       "         'animé': 1,\n",
       "         'encercle': 1,\n",
       "         'imposante': 1,\n",
       "         'mosquée': 1,\n",
       "         'zitouna': 1,\n",
       "         'mosaique': 1})"
      ]
     },
     "execution_count": 80,
     "metadata": {},
     "output_type": "execute_result"
    }
   ],
   "source": [
    "Counter(finale)"
   ]
  },
  {
   "cell_type": "code",
   "execution_count": null,
   "id": "36a1035f-376f-4898-9c47-757397f0c605",
   "metadata": {},
   "outputs": [],
   "source": []
  },
  {
   "cell_type": "code",
   "execution_count": 67,
   "id": "ca18b43e-60c3-4344-ae0e-1fdec95a21cf",
   "metadata": {},
   "outputs": [
    {
     "data": {
      "text/plain": [
       "[str,\n",
       " str,\n",
       " str,\n",
       " str,\n",
       " str,\n",
       " list,\n",
       " str,\n",
       " str,\n",
       " str,\n",
       " str,\n",
       " str,\n",
       " str,\n",
       " str,\n",
       " str,\n",
       " str,\n",
       " str,\n",
       " str,\n",
       " str,\n",
       " str,\n",
       " str,\n",
       " str,\n",
       " str,\n",
       " str,\n",
       " str,\n",
       " str,\n",
       " str,\n",
       " str,\n",
       " str,\n",
       " str,\n",
       " str,\n",
       " str,\n",
       " str,\n",
       " str,\n",
       " str,\n",
       " str,\n",
       " str,\n",
       " str,\n",
       " str,\n",
       " list,\n",
       " str,\n",
       " str,\n",
       " str,\n",
       " str,\n",
       " str,\n",
       " str,\n",
       " str,\n",
       " str,\n",
       " str,\n",
       " str,\n",
       " str,\n",
       " list,\n",
       " str,\n",
       " str,\n",
       " str,\n",
       " str,\n",
       " str,\n",
       " str,\n",
       " str]"
      ]
     },
     "execution_count": 67,
     "metadata": {},
     "output_type": "execute_result"
    }
   ],
   "source": [
    "finale_"
   ]
  }
 ],
 "metadata": {
  "kernelspec": {
   "display_name": "Python 3 (ipykernel)",
   "language": "python",
   "name": "python3"
  },
  "language_info": {
   "codemirror_mode": {
    "name": "ipython",
    "version": 3
   },
   "file_extension": ".py",
   "mimetype": "text/x-python",
   "name": "python",
   "nbconvert_exporter": "python",
   "pygments_lexer": "ipython3",
   "version": "3.10.13"
  }
 },
 "nbformat": 4,
 "nbformat_minor": 5
}
